{
 "cells": [
  {
   "cell_type": "code",
   "execution_count": 11,
   "metadata": {},
   "outputs": [
    {
     "name": "stdout",
     "output_type": "stream",
     "text": [
      "[2025/03/21 09:49:51] ppocr DEBUG: Namespace(help='==SUPPRESS==', use_gpu=True, use_xpu=False, use_npu=False, use_mlu=False, use_gcu=False, ir_optim=True, use_tensorrt=False, min_subgraph_size=15, precision='fp32', gpu_mem=500, gpu_id=0, image_dir=None, page_num=0, det_algorithm='DB', det_model_dir='C:\\\\Users\\\\yepeng/.paddleocr/whl\\\\det\\\\ch\\\\ch_PP-OCRv4_det_infer', det_limit_side_len=960, det_limit_type='max', det_box_type='quad', det_db_thresh=0.3, det_db_box_thresh=0.6, det_db_unclip_ratio=1.5, max_batch_size=10, use_dilation=False, det_db_score_mode='fast', det_east_score_thresh=0.8, det_east_cover_thresh=0.1, det_east_nms_thresh=0.2, det_sast_score_thresh=0.5, det_sast_nms_thresh=0.2, det_pse_thresh=0, det_pse_box_thresh=0.85, det_pse_min_area=16, det_pse_scale=1, scales=[8, 16, 32], alpha=1.0, beta=1.0, fourier_degree=5, rec_algorithm='SVTR_LCNet', rec_model_dir='C:\\\\Users\\\\yepeng/.paddleocr/whl\\\\rec\\\\ch\\\\ch_PP-OCRv4_rec_infer', rec_image_inverse=True, rec_image_shape='3, 48, 320', rec_batch_num=6, max_text_length=25, rec_char_dict_path='c:\\\\Users\\\\yepeng\\\\miniconda3\\\\envs\\\\OCR\\\\Lib\\\\site-packages\\\\paddleocr\\\\ppocr\\\\utils\\\\ppocr_keys_v1.txt', use_space_char=True, vis_font_path='./doc/fonts/simfang.ttf', drop_score=0.5, e2e_algorithm='PGNet', e2e_model_dir=None, e2e_limit_side_len=768, e2e_limit_type='max', e2e_pgnet_score_thresh=0.5, e2e_char_dict_path='./ppocr/utils/ic15_dict.txt', e2e_pgnet_valid_set='totaltext', e2e_pgnet_mode='fast', use_angle_cls=False, cls_model_dir='C:\\\\Users\\\\yepeng/.paddleocr/whl\\\\cls\\\\ch_ppocr_mobile_v2.0_cls_infer', cls_image_shape='3, 48, 192', label_list=['0', '180'], cls_batch_num=6, cls_thresh=0.9, enable_mkldnn=False, cpu_threads=10, use_pdserving=False, warmup=False, sr_model_dir=None, sr_image_shape='3, 32, 128', sr_batch_num=1, draw_img_save_dir='./inference_results', save_crop_res=False, crop_res_save_dir='./output', use_mp=False, total_process_num=1, process_id=0, benchmark=False, save_log_path='./log_output/', show_log=True, use_onnx=False, onnx_providers=False, onnx_sess_options=False, return_word_box=False, output='./output', table_max_len=488, table_algorithm='TableAttn', table_model_dir=None, merge_no_span_structure=True, table_char_dict_path=None, formula_algorithm='LaTeXOCR', formula_model_dir=None, formula_char_dict_path=None, formula_batch_num=1, layout_model_dir=None, layout_dict_path=None, layout_score_threshold=0.5, layout_nms_threshold=0.5, kie_algorithm='LayoutXLM', ser_model_dir=None, re_model_dir=None, use_visual_backbone=True, ser_dict_path='../train_data/XFUND/class_list_xfun.txt', ocr_order_method=None, mode='structure', image_orientation=False, layout=True, table=True, formula=False, ocr=True, recovery=False, recovery_to_markdown=False, use_pdf2docx_api=False, invert=False, binarize=False, alphacolor=(255, 255, 255), lang='ch', det=True, rec=True, type='ocr', savefile=False, ocr_version='PP-OCRv4', structure_version='PP-StructureV2')\n",
      "[2025/03/21 09:49:52] ppocr WARNING: The first GPU is used for inference by default, GPU ID: 0\n",
      "[2025/03/21 09:49:53] ppocr WARNING: The first GPU is used for inference by default, GPU ID: 0\n",
      "[2025/03/21 09:49:56] ppocr DEBUG: dt_boxes num : 57, elapsed : 0.07209968566894531\n",
      "[2025/03/21 09:49:56] ppocr DEBUG: rec_res num  : 57, elapsed : 0.5369353294372559\n",
      "Result structure:\n",
      "Line 0: [[[[104.0, 84.0], [752.0, 85.0], [752.0, 103.0], [104.0, 102.0]], ('0.1%，考核0.3元/吨；（3）水分>11%，每超0.1%，考核1元/吨（不含税）（以上考核分段', 0.9671552181243896)], [[[108.0, 108.0], [198.0, 108.0], [198.0, 126.0], [108.0, 126.0]], ('累计计算）。', 0.9987165927886963)], [[[135.0, 130.0], [752.0, 131.0], [752.0, 149.0], [135.0, 148.0]], ('6、挥发分按合同期加权值进行考核，每超出规定范围土1%时（含土1%），坑口价格下', 0.9902517199516296)], [[[107.0, 155.0], [286.0, 155.0], [286.0, 173.0], [107.0, 173.0]], ('调0.5元/吨（不含税）。', 0.9792991876602173)], [[[135.0, 177.0], [752.0, 178.0], [752.0, 196.0], [135.0, 195.0]], ('7、乙方请于收到化验结果报告当日回复甲方是否认可化验结果。热值有争议时，乙方', 0.9988424181938171)], [[[105.0, 200.0], [653.0, 201.0], [653.0, 219.0], [105.0, 218.0]], ('在一个工作日内向甲方提出书面复查申请。按照甲方热值争议管理办法处理。', 0.9982917904853821)], [[[856.0, 201.0], [869.0, 201.0], [869.0, 215.0], [856.0, 215.0]], ('△', 0.8524869680404663)], [[[135.0, 222.0], [753.0, 223.0], [753.0, 241.0], [135.0, 240.0]], ('8、在本合同期内，乙方合同量的兑现率必须达到90%（含90%）以上，兑现率为80%-90%', 0.997422456741333)], [[[854.0, 213.0], [871.0, 213.0], [871.0, 229.0], [854.0, 229.0]], ('口', 0.9358847141265869)], [[[113.0, 244.0], [753.0, 245.0], [753.0, 263.0], [113.0, 262.0]], ('（含80%），扣除20%履约保证金：兑现率为70%-80%（含70%），扣除30%履约保证金：兑', 0.988519012928009)], [[[105.0, 265.0], [646.0, 267.0], [646.0, 285.0], [105.0, 283.0]], ('现率<70%，扣除全部履约保证金（由于收货人导致合同兑现率低的除外）。', 0.99598628282547)], [[[135.0, 289.0], [753.0, 290.0], [753.0, 308.0], [135.0, 307.0]], ('9、甲方可根据供煤中含有中煤、泥煤、大块研石（直径超过50毫米）、杂物作出扣吨', 0.9951421022415161)], [[[107.0, 313.0], [150.0, 313.0], [150.0, 331.0], [107.0, 331.0]], ('处理。', 0.9999804496765137)], [[[107.0, 335.0], [278.0, 335.0], [278.0, 352.0], [107.0, 352.0]], ('第五条结算及付款方式', 0.9997761845588684)], [[[137.0, 358.0], [752.0, 360.0], [752.0, 378.0], [137.0, 376.0]], ('1、在供货期内，根据交货地点出具的每批次收货数量证明，乙方（卖方）向甲方（买', 0.9988398551940918)], [[[139.0, 381.0], [752.0, 383.0], [752.0, 401.0], [139.0, 399.0]], ('方）办理货权转移手续，货权转移手续办理后1个工作日内，甲方（买方）根据合同基', 0.9994107484817505)], [[[138.0, 405.0], [753.0, 406.0], [753.0, 424.0], [138.0, 423.0]], ('础价和货权转移数量，以现汇或银承的方式向乙方（卖方）支付货权转移数量总煤款的', 0.9990347623825073)], [[[138.0, 430.0], [170.0, 430.0], [170.0, 446.0], [138.0, 446.0]], ('85%', 0.9980610013008118)], [[[138.0, 454.0], [749.0, 454.0], [749.0, 470.0], [138.0, 470.0]], ('2、最终结算以双方盖章确认的结算单为准。乙方（卖方）在结算单确认后3个工作日', 0.999014675617218)], [[[139.0, 477.0], [753.0, 477.0], [753.0, 494.0], [139.0, 494.0]], ('内向甲方（买方）开具全额煤炭增值税专用发票，甲方（买方）在收到全额增值税专用', 0.9957297444343567)], [[[140.0, 500.0], [752.0, 500.0], [752.0, 517.0], [140.0, 517.0]], ('发票原件后2个工作日内向乙方（卖方）付至货款总额的98%：2%质保金待质保期满后', 0.9924138188362122)], [[[140.0, 523.0], [752.0, 523.0], [752.0, 540.0], [140.0, 540.0]], ('后再向乙方（卖方）支付。如最终结算时间超过初次付款60天，先办理预结算并确认', 0.9994216561317444)], [[[138.0, 545.0], [589.0, 546.0], [589.0, 564.0], [138.0, 563.0]], ('后3个工作日内向甲方（买方）开具全额煤炭增值税专用发票。', 0.9996228218078613)], [[[138.0, 570.0], [753.0, 570.0], [753.0, 586.0], [138.0, 586.0]], ('3、如因煤炭质量问题发生包括但不限于事故、损害等情形，由乙方（卖方）承担赔偿', 0.9975458383560181)], [[[139.0, 593.0], [753.0, 593.0], [753.0, 609.0], [139.0, 609.0]], ('责任，若甲方（买方）代乙方（卖方）承担赔偿责任的，甲方（买方）有权向乙方（卖', 0.9981372356414795)], [[[138.0, 615.0], [588.0, 616.0], [588.0, 634.0], [138.0, 633.0]], ('方）追偿（包括但不限于诉讼费、保全费、律师费、赔偿费）。', 0.998844563961029)], [[[136.0, 639.0], [277.0, 638.0], [277.0, 656.0], [137.0, 657.0]], ('4、开票及收款信息', 0.9990257620811462)], [[[138.0, 661.0], [311.0, 662.0], [311.0, 680.0], [138.0, 679.0]], ('甲方（买方）开票信息：', 0.999101459980011)], [[[139.0, 686.0], [401.0, 686.0], [401.0, 704.0], [139.0, 704.0]], ('名称：湖北省宏泰贸易投资有限公司', 0.9996932148933411)], [[[139.0, 709.0], [401.0, 709.0], [401.0, 725.0], [139.0, 725.0]], ('纳税人识别号：91420000MA491AW5XP', 0.9983256459236145)], [[[139.0, 732.0], [661.0, 732.0], [661.0, 750.0], [139.0, 750.0]], ('地址：武汉市东湖新技术开发区光谷三路777号A办公楼4层401-326号', 0.9989513754844666)], [[[139.0, 756.0], [449.0, 756.0], [449.0, 773.0], [139.0, 773.0]], ('开户银行：平安银行股份有限公司武汉支行', 0.9834675192832947)], [[[139.0, 780.0], [336.0, 780.0], [336.0, 796.0], [139.0, 796.0]], ('银行账户：15000090281084', 0.9994603991508484)], [[[138.0, 803.0], [320.0, 803.0], [320.0, 820.0], [138.0, 820.0]], ('联系电话：027-87260832', 0.9995453953742981)], [[[138.0, 826.0], [287.0, 826.0], [287.0, 843.0], [138.0, 843.0]], ('行号：307521005712', 0.9993557333946228)], [[[139.0, 848.0], [311.0, 848.0], [311.0, 865.0], [139.0, 865.0]], ('乙方（卖方）收款信息：', 0.9988622069358826)], [[[139.0, 871.0], [432.0, 871.0], [432.0, 888.0], [139.0, 888.0]], ('名称：鲲鹏（舟山）供应链管理有限公司', 0.9973121285438538)], [[[138.0, 896.0], [345.0, 896.0], [345.0, 912.0], [138.0, 912.0]], ('账号：3309040160000418448', 0.9986919164657593)], [[[138.0, 919.0], [467.0, 919.0], [467.0, 937.0], [138.0, 937.0]], ('开户行：杭州银行股份有限公司舟山定海支行', 0.9987642168998718)], [[[108.0, 942.0], [326.0, 942.0], [326.0, 960.0], [108.0, 960.0]], ('第六条合同变更、中止及解除', 0.9991905689239502)], [[[817.0, 944.0], [873.0, 938.0], [873.0, 982.0], [822.0, 988.0]], ('供应', 0.9995512962341309)], [[[137.0, 965.0], [696.0, 965.0], [696.0, 983.0], [137.0, 983.0]], ('1、任何一方不得单独变更合同内容，经甲、乙双方协商一致可变更合同内容。', 0.9989690780639648)], [[[135.0, 986.0], [756.0, 984.0], [756.0, 1006.0], [135.0, 1008.0]], ('2、连续三天甲方化验热值低于合同热值500kcal/kg及以下的，甲方有权解除合同。由', 0.9943437576293945)], [[[105.0, 1010.0], [328.0, 1012.0], [328.0, 1030.0], [105.0, 1028.0]], ('此造成的损失由乙方自行承担。', 0.9986826777458191)], [[[134.0, 1032.0], [756.0, 1031.0], [756.0, 1053.0], [134.0, 1054.0]], ('3、在履行合同过程中，发现乙方有掺假作等行为的，甲方有权中止合同，要求乙方', 0.9989374279975891)], [[[107.0, 1058.0], [756.0, 1058.0], [756.0, 1076.0], [107.0, 1076.0]], ('纠正其违约行为；若乙方拒不纠正其违约行为，甲方有权解除合同。由此造成的损失由乙方', 0.9919217824935913)], [[[822.0, 1062.0], [873.0, 1062.0], [873.0, 1095.0], [822.0, 1095.0]], ('同专', 0.9981415271759033)], [[[109.0, 1084.0], [178.0, 1084.0], [178.0, 1098.0], [109.0, 1098.0]], ('自行承担。', 0.998339056968689)], [[[135.0, 1104.0], [754.0, 1103.0], [754.0, 1121.0], [135.0, 1122.0]], ('4、合同签订后三日内未供煤或日供煤量连续三天未按照甲方要求供煤的，甲方有权中', 0.9991390705108643)], [[[108.0, 1129.0], [294.0, 1129.0], [294.0, 1146.0], [108.0, 1146.0]], ('止合同，并书面通知乙方。', 0.998475968837738)], [[[137.0, 1152.0], [416.0, 1152.0], [416.0, 1169.0], [137.0, 1169.0]], ('5、本合同及法律法规规定的其他情形。', 0.998999834060669)], [[[107.0, 1174.0], [228.0, 1174.0], [228.0, 1192.0], [107.0, 1192.0]], ('第七条不可抗力', 0.9995952248573303)], [[[138.0, 1197.0], [756.0, 1196.0], [756.0, 1214.0], [138.0, 1215.0]], ('本合同所称的不可抗力指地震、水灾、火灾、暴风雪等自然灾害和法律法规调整。由于', 0.9983966946601868)]]\n",
      "Type of line[1]: <class 'list'>\n",
      "Content of line[1]: [[[108.0, 108.0], [198.0, 108.0], [198.0, 126.0], [108.0, 126.0]], ('累计计算）。', 0.9987165927886963)]\n"
     ]
    }
   ],
   "source": [
    "from paddleocr import PaddleOCR, draw_ocr\n",
    "ocr = PaddleOCR(use_angle_cls=False, lang=\"ch\") \n",
    "img_path = \"./test_img/2.jpg\"\n",
    "result = ocr.ocr(img_path, cls=False)\n",
    "print(\"Result structure:\")\n",
    "for idx, line in enumerate(result):\n",
    "    print(f\"Line {idx}:\", line)\n",
    "    print(f\"Type of line[1]: {type(line[1])}\")\n",
    "    print(f\"Content of line[1]: {line[1]}\")\n",
    "# 可视化结果\n",
    "from PIL import Image\n",
    "\n",
    "image = Image.open(img_path).convert('RGB')\n",
    "boxes = [line[0] for line in result[0]]\n",
    "txts = [line[1][0] for line in result[0]]\n",
    "scores = [line[1][1] for line in result[0]]\n",
    "im_show = draw_ocr(image, boxes, txts, scores, font_path='./simfang.ttf')\n",
    "im_show = Image.fromarray(im_show)\n",
    "im_show.show()\n"
   ]
  },
  {
   "cell_type": "code",
   "execution_count": 8,
   "metadata": {},
   "outputs": [
    {
     "data": {
      "text/plain": [
       "True"
      ]
     },
     "execution_count": 8,
     "metadata": {},
     "output_type": "execute_result"
    }
   ],
   "source": [
    "import cv2\n",
    "import numpy as np\n",
    "import matplotlib.pyplot as plt\n",
    "\n",
    "#读入图像,三通道\n",
    "image=cv2.imread(\"./test_img/3.jpg\",cv2.IMREAD_COLOR) #timg.jpeg\n",
    "\n",
    "#获得三个通道\n",
    "Bch,Gch,Rch=cv2.split(image)\n",
    "\n",
    "#保存三通道图片\n",
    "cv2.imwrite('blue_channel.jpg',Bch)\n",
    "cv2.imwrite('green_channel.jpg',Gch)\n",
    "cv2.imwrite('red_channel.jpg',Rch)"
   ]
  },
  {
   "cell_type": "code",
   "execution_count": 9,
   "metadata": {},
   "outputs": [
    {
     "name": "stdout",
     "output_type": "stream",
     "text": [
      "[2025/03/20 19:50:03] ppocr DEBUG: dt_boxes num : 38, elapsed : 0.03769659996032715\n",
      "[2025/03/20 19:50:03] ppocr DEBUG: rec_res num  : 38, elapsed : 0.17128205299377441\n"
     ]
    }
   ],
   "source": [
    "import numpy as np\n",
    "import cv2\n",
    "\n",
    "\n",
    "img_path = './red_channel.jpg'\n",
    "result = ocr.ocr(img_path, cls=False)\n",
    "\n",
    "# 可视化结果\n",
    "from PIL import Image\n",
    "\n",
    "image = Image.open(img_path).convert('RGB')\n",
    "boxes = [line[0] for line in result[0]]\n",
    "txts = [line[1][0] for line in result[0]]\n",
    "scores = [line[1][1] for line in result[0]]\n",
    "im_show = draw_ocr(image, boxes, txts, scores, font_path='./simfang.ttf')\n",
    "im_show = Image.fromarray(im_show)\n",
    "vis = np.array(im_show)\n",
    "im_show.show()"
   ]
  },
  {
   "cell_type": "code",
   "execution_count": 10,
   "metadata": {},
   "outputs": [
    {
     "name": "stdout",
     "output_type": "stream",
     "text": [
      "发生不可抗力而导致无法履行合同或者解除合同的，可以免除相应的法律责任。但未履行合\n",
      "同的一方须及时通知对方，并于不可抗力消除后5日内向对方提供由权威机关出具的相关证\n",
      "明。\n",
      "第八条解决合同争议的方式\n",
      "本合同在履行过程中如有争议，由甲、乙双方协商解决，协商不成的，提交甲方所在地\n",
      "有管辖权的人民法院解决。\n",
      "第九条合同的生效\n",
      "本合同自甲、乙双方签字盖章之日起生效。\n",
      "第十条未尽事宜\n",
      "本合同未尽事宜，甲、乙双方可签订补充协议，补充协议与本合同具有同等法律效力。\n",
      "本合同一式陆份，甲、乙双方各执叁份。\n",
      "甲方（章）：湖北省宏泰贸易投资有限公司\n",
      "乙方（章）：鲲鹏（舟山）供应链管理有限公司\n",
      "法定代表人：同士田\n",
      "法定代表人：\n",
      "合同专用章\n",
      "或授权代表人：05012\n",
      "或授权代表人：\n",
      "联系人：张茜\n",
      "联系人：姚薇\n",
      "电话：18696171012\n",
      "电话：15801269907\n",
      "邮箱：zhangqian@htmytz.com\n",
      "邮箱：yuhling@163.com\n",
      "银行账户：005091000022305\n",
      "银行账户：3309040160000418448\n",
      "开户行：汉口银行科技金融服务中心\n",
      "开户行：杭州银行股份有限公司舟山定海支行\n",
      "税号：91420000MA491AW5XP\n",
      "税号：92330901MA2A36L81R\n",
      "签订时间：2021年9月日\n",
      "签订地点：湖北省武汉市\n"
     ]
    }
   ],
   "source": [
    "txts = [line[1][0] for line in result[0]]\n",
    "all_context = \"\\n\".join(txts)\n",
    "print(all_context)"
   ]
  }
 ],
 "metadata": {
  "kernelspec": {
   "display_name": "OCR",
   "language": "python",
   "name": "python3"
  },
  "language_info": {
   "codemirror_mode": {
    "name": "ipython",
    "version": 3
   },
   "file_extension": ".py",
   "mimetype": "text/x-python",
   "name": "python",
   "nbconvert_exporter": "python",
   "pygments_lexer": "ipython3",
   "version": "3.12.9"
  }
 },
 "nbformat": 4,
 "nbformat_minor": 2
}
