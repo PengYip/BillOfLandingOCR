{
 "cells": [
  {
   "cell_type": "code",
   "execution_count": 1,
   "metadata": {},
   "outputs": [
    {
     "name": "stderr",
     "output_type": "stream",
     "text": [
      "\u001b[32mUsing official model (PP-LCNet_x1_0_doc_ori), the model files will be automatically downloaded and saved in C:\\Users\\yepeng\\.paddlex\\official_models.\u001b[0m\n",
      "c:\\Users\\yepeng\\miniconda3\\envs\\OCR\\Lib\\site-packages\\paddle\\utils\\cpp_extension\\extension_utils.py:711: UserWarning: No ccache found. Please be aware that recompiling all source files may be required. You can download and install ccache from: https://github.com/ccache/ccache/blob/master/doc/INSTALL.md\n",
      "  warnings.warn(warning_message)\n",
      "\u001b[32mUsing official model (UVDoc), the model files will be automatically downloaded and saved in C:\\Users\\yepeng\\.paddlex\\official_models.\u001b[0m\n",
      "\u001b[32mUsing official model (PP-DocLayout-L), the model files will be automatically downloaded and saved in C:\\Users\\yepeng\\.paddlex\\official_models.\u001b[0m\n",
      "\u001b[32mUsing official model (PP-LCNet_x0_25_textline_ori), the model files will be automatically downloaded and saved in C:\\Users\\yepeng\\.paddlex\\official_models.\u001b[0m\n",
      "\u001b[32mUsing official model (PP-OCRv4_server_det), the model files will be automatically downloaded and saved in C:\\Users\\yepeng\\.paddlex\\official_models.\u001b[0m\n",
      "\u001b[32mUsing official model (PP-OCRv4_server_rec_doc), the model files will be automatically downloaded and saved in C:\\Users\\yepeng\\.paddlex\\official_models.\u001b[0m\n",
      "\u001b[32mUsing official model (PP-OCRv4_server_seal_det), the model files will be automatically downloaded and saved in C:\\Users\\yepeng\\.paddlex\\official_models.\u001b[0m\n",
      "\u001b[32mUsing official model (PP-OCRv4_server_rec), the model files will be automatically downloaded and saved in C:\\Users\\yepeng\\.paddlex\\official_models.\u001b[0m\n",
      "\u001b[32mUsing official model (PP-LCNet_x1_0_table_cls), the model files will be automatically downloaded and saved in C:\\Users\\yepeng\\.paddlex\\official_models.\u001b[0m\n",
      "\u001b[32mUsing official model (SLANeXt_wired), the model files will be automatically downloaded and saved in C:\\Users\\yepeng\\.paddlex\\official_models.\u001b[0m\n",
      "\u001b[32mUsing official model (SLANet_plus), the model files will be automatically downloaded and saved in C:\\Users\\yepeng\\.paddlex\\official_models.\u001b[0m\n",
      "\u001b[32mUsing official model (RT-DETR-L_wired_table_cell_det), the model files will be automatically downloaded and saved in C:\\Users\\yepeng\\.paddlex\\official_models.\u001b[0m\n",
      "\u001b[32mUsing official model (RT-DETR-L_wireless_table_cell_det), the model files will be automatically downloaded and saved in C:\\Users\\yepeng\\.paddlex\\official_models.\u001b[0m\n",
      "\u001b[32mUsing official model (PP-FormulaNet-L), the model files will be automatically downloaded and saved in C:\\Users\\yepeng\\.paddlex\\official_models.\u001b[0m\n"
     ]
    }
   ],
   "source": [
    "from pathlib import Path\n",
    "from paddlex import create_pipeline\n",
    "\n",
    "pipeline = create_pipeline(pipeline=\"PP-StructureV3\",device=\"gpu\")\n",
    "\n",
    "input_file = \"./doc/pdf/bill/98377.7 1222058_提单.pdf\"\n",
    "output_path = Path(\"./output\")\n",
    "\n",
    "output = pipeline.predict(\n",
    "    input=input_file,\n",
    "    use_doc_orientation_classify=False,\n",
    "    use_doc_unwarping=False,\n",
    "    use_textline_orientation=False)\n",
    "\n",
    "markdown_list = []\n",
    "markdown_images = []\n",
    "\n",
    "for res in output:\n",
    "    md_info = res.markdown\n",
    "    markdown_list.append(md_info)\n",
    "    markdown_images.append(md_info.get(\"markdown_images\", {}))\n",
    "\n",
    "markdown_texts = pipeline.concatenate_markdown_pages(markdown_list)\n",
    "\n",
    "mkd_file_path = output_path / f\"{Path(input_file).stem}.md\"\n",
    "mkd_file_path.parent.mkdir(parents=True, exist_ok=True)\n",
    "\n",
    "with open(mkd_file_path, \"w\", encoding=\"utf-8\") as f:\n",
    "    f.write(markdown_texts)\n",
    "\n",
    "for item in markdown_images:\n",
    "    if item:\n",
    "        for path, image in item.items():\n",
    "            file_path = output_path / path\n",
    "            file_path.parent.mkdir(parents=True, exist_ok=True)\n",
    "            image.save(file_path)"
   ]
  },
  {
   "cell_type": "code",
   "execution_count": null,
   "metadata": {},
   "outputs": [],
   "source": []
  }
 ],
 "metadata": {
  "kernelspec": {
   "display_name": "OCR",
   "language": "python",
   "name": "python3"
  },
  "language_info": {
   "codemirror_mode": {
    "name": "ipython",
    "version": 3
   },
   "file_extension": ".py",
   "mimetype": "text/x-python",
   "name": "python",
   "nbconvert_exporter": "python",
   "pygments_lexer": "ipython3",
   "version": "3.12.9"
  }
 },
 "nbformat": 4,
 "nbformat_minor": 2
}
